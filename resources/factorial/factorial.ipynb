{
 "cells": [
  {
   "cell_type": "code",
   "execution_count": null,
   "id": "280474f6-57d2-4529-a6f3-ee57c1b3e091",
   "metadata": {},
   "outputs": [],
   "source": [
    "import math\n",
    "from datetime import datetime\n",
    "\n",
    "starttime = datetime.now()\n",
    "for x in range(3,6):\n",
    "    n = pow(10,x)\n",
    "    for y in range(1,10):\n",
    "        laptime = datetime.now()\n",
    "        result = math.factorial(y*n)\n",
    "        runtime = datetime.now() - laptime\n",
    "        print(f'Lap time of factorial({y*n}): {runtime.total_seconds()}')\n",
    "runtime = datetime.now() - starttime\n",
    "print(f'Total runtime: {runtime.total_seconds()}')\n",
    "print('Done...')"
   ]
  },
  {
   "cell_type": "code",
   "execution_count": null,
   "id": "59c19ece-3a8b-4fcd-ba04-a1219d437872",
   "metadata": {},
   "outputs": [],
   "source": []
  }
 ],
 "metadata": {
  "kernelspec": {
   "display_name": "Python 3 (ipykernel)",
   "language": "python",
   "name": "python3"
  },
  "language_info": {
   "codemirror_mode": {
    "name": "ipython",
    "version": 3
   },
   "file_extension": ".py",
   "mimetype": "text/x-python",
   "name": "python",
   "nbconvert_exporter": "python",
   "pygments_lexer": "ipython3",
   "version": "3.10.8"
  }
 },
 "nbformat": 4,
 "nbformat_minor": 5
}
